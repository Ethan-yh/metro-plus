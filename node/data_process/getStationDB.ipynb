{
 "metadata": {
  "language_info": {
   "codemirror_mode": {
    "name": "ipython",
    "version": 3
   },
   "file_extension": ".py",
   "mimetype": "text/x-python",
   "name": "python",
   "nbconvert_exporter": "python",
   "pygments_lexer": "ipython3",
   "version": "3.8.8"
  },
  "orig_nbformat": 4,
  "kernelspec": {
   "name": "python3",
   "display_name": "Python 3.8.8 64-bit ('ml': conda)"
  },
  "interpreter": {
   "hash": "8ff797285f117e0da400d5e689cec072857ad394e959a3965450c03c5fe61561"
  }
 },
 "nbformat": 4,
 "nbformat_minor": 2,
 "cells": [
  {
   "cell_type": "code",
   "execution_count": 5,
   "metadata": {},
   "outputs": [],
   "source": [
    "import pandas as pd\r\n",
    "import numpy as np\r\n",
    "import json\r\n",
    "import xlrd\r\n",
    "from xlrd import xldate_as_tuple"
   ]
  },
  {
   "cell_type": "code",
   "execution_count": 6,
   "metadata": {
    "tags": []
   },
   "outputs": [],
   "source": [
    "with open(\"../data/metro_data.json\",'r', encoding='utf-8') as load_f:\n",
    "    metro_data = json.load(load_f)\n",
    "    # print(metro_data)\n",
    "    stations = metro_data['stations']\n",
    "\n"
   ]
  },
  {
   "cell_type": "code",
   "execution_count": 7,
   "metadata": {},
   "outputs": [],
   "source": [
    "# 时刻表数据\n",
    "wb = xlrd.open_workbook(\"../data/sub_line_data.xlsx\",\"rb\")\n",
    "def getSheetByName(name):\n",
    "    for i in range(len(wb.sheet_names())):\n",
    "        if wb.sheet_names()[i]==name:\n",
    "            return wb.sheet_by_index(i)\n",
    "\n",
    "# test_sheet = getSheetByName('12号线')\n",
    "# test_sheet.row_values(1)[0]"
   ]
  },
  {
   "cell_type": "code",
   "execution_count": 8,
   "metadata": {},
   "outputs": [],
   "source": [
    "\n",
    "\n",
    "\n",
    "station_arr = []\n",
    "for station in stations:\n",
    "    stationItem = {}\n",
    "    stationItem['station_id'] = station['id']\n",
    "    stationItem['name'] = station['name']\n",
    "    # stationItem['lng'] = None\n",
    "    # stationItem['lat'] = None\n",
    "\n",
    "    station_arr.append(stationItem)\n",
    "\n",
    "\n",
    "\n",
    "station_arr\n",
    "df = pd.DataFrame(station_arr)\n",
    "df.to_csv('../data/stationDB.csv', index=False)\n",
    "\n"
   ]
  }
 ]
}