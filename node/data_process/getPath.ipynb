{
 "metadata": {
  "language_info": {
   "codemirror_mode": {
    "name": "ipython",
    "version": 3
   },
   "file_extension": ".py",
   "mimetype": "text/x-python",
   "name": "python",
   "nbconvert_exporter": "python",
   "pygments_lexer": "ipython3",
   "version": "3.8.10"
  },
  "orig_nbformat": 4,
  "kernelspec": {
   "name": "python3",
   "display_name": "Python 3.8.10 64-bit ('spider': conda)"
  },
  "interpreter": {
   "hash": "2f3154c155f7b66da45293b4e2b3628b6f38fcb1b81e83c70d0d9d60cf486a3b"
  }
 },
 "nbformat": 4,
 "nbformat_minor": 2,
 "cells": [
  {
   "cell_type": "code",
   "execution_count": 38,
   "metadata": {},
   "outputs": [],
   "source": [
    "import requests\n",
    "import pandas as pd\n",
    "import re\n",
    "import numpy as np\n",
    "import json"
   ]
  },
  {
   "cell_type": "code",
   "execution_count": 39,
   "metadata": {},
   "outputs": [
    {
     "output_type": "execute_result",
     "data": {
      "text/plain": [
       "      d no psnm      pttm obegintime olasttime     o  \\\n",
       "0  0825  1   11      1242      21718     82089  0120   \n",
       "0  0825  2    8  909-1965      20539     81862  0120   \n",
       "0  0825  3   13       746      18419     81991  0120   \n",
       "\n",
       "                                                psid costtime  lttm  \\\n",
       "0  120-740-741-742-743-744-745-746-829-828-827-82...     1909  2032   \n",
       "0  120-119-118-1149-1150-1151-1152-1153-1154-826-825     2173  2259   \n",
       "0  120-121-122-123-835-834-833-832-831-830-829-82...     2221  2130   \n",
       "\n",
       "                  ptid lstm  \\\n",
       "0             746(829)        \n",
       "0  118(1149)-1154(826)        \n",
       "0             123(835)        \n",
       "\n",
       "                                                pstm    plid bstm  \\\n",
       "0  0-0-174-303-424-637-794-922-1242-1370-1524-170...     7-8        \n",
       "0   0-122-259-909-1084-1239-1364-1481-1665-1965-2173  1-11-8        \n",
       "0  0-111-237-396-746-864-993-1110-1247-1425-1554-...     1-8        \n",
       "\n",
       "  begintraveltime passengerscale  huanchentime price  \n",
       "0            1691         0.6400           320     4  \n",
       "0            4010         0.2200           950     4  \n",
       "0            4502         0.1400           350     4  "
      ],
      "text/html": "<div>\n<style scoped>\n    .dataframe tbody tr th:only-of-type {\n        vertical-align: middle;\n    }\n\n    .dataframe tbody tr th {\n        vertical-align: top;\n    }\n\n    .dataframe thead th {\n        text-align: right;\n    }\n</style>\n<table border=\"1\" class=\"dataframe\">\n  <thead>\n    <tr style=\"text-align: right;\">\n      <th></th>\n      <th>d</th>\n      <th>no</th>\n      <th>psnm</th>\n      <th>pttm</th>\n      <th>obegintime</th>\n      <th>olasttime</th>\n      <th>o</th>\n      <th>psid</th>\n      <th>costtime</th>\n      <th>lttm</th>\n      <th>ptid</th>\n      <th>lstm</th>\n      <th>pstm</th>\n      <th>plid</th>\n      <th>bstm</th>\n      <th>begintraveltime</th>\n      <th>passengerscale</th>\n      <th>huanchentime</th>\n      <th>price</th>\n    </tr>\n  </thead>\n  <tbody>\n    <tr>\n      <th>0</th>\n      <td>0825</td>\n      <td>1</td>\n      <td>11</td>\n      <td>1242</td>\n      <td>21718</td>\n      <td>82089</td>\n      <td>0120</td>\n      <td>120-740-741-742-743-744-745-746-829-828-827-82...</td>\n      <td>1909</td>\n      <td>2032</td>\n      <td>746(829)</td>\n      <td></td>\n      <td>0-0-174-303-424-637-794-922-1242-1370-1524-170...</td>\n      <td>7-8</td>\n      <td></td>\n      <td>1691</td>\n      <td>0.6400</td>\n      <td>320</td>\n      <td>4</td>\n    </tr>\n    <tr>\n      <th>0</th>\n      <td>0825</td>\n      <td>2</td>\n      <td>8</td>\n      <td>909-1965</td>\n      <td>20539</td>\n      <td>81862</td>\n      <td>0120</td>\n      <td>120-119-118-1149-1150-1151-1152-1153-1154-826-825</td>\n      <td>2173</td>\n      <td>2259</td>\n      <td>118(1149)-1154(826)</td>\n      <td></td>\n      <td>0-122-259-909-1084-1239-1364-1481-1665-1965-2173</td>\n      <td>1-11-8</td>\n      <td></td>\n      <td>4010</td>\n      <td>0.2200</td>\n      <td>950</td>\n      <td>4</td>\n    </tr>\n    <tr>\n      <th>0</th>\n      <td>0825</td>\n      <td>3</td>\n      <td>13</td>\n      <td>746</td>\n      <td>18419</td>\n      <td>81991</td>\n      <td>0120</td>\n      <td>120-121-122-123-835-834-833-832-831-830-829-82...</td>\n      <td>2221</td>\n      <td>2130</td>\n      <td>123(835)</td>\n      <td></td>\n      <td>0-111-237-396-746-864-993-1110-1247-1425-1554-...</td>\n      <td>1-8</td>\n      <td></td>\n      <td>4502</td>\n      <td>0.1400</td>\n      <td>350</td>\n      <td>4</td>\n    </tr>\n  </tbody>\n</table>\n</div>"
     },
     "metadata": {},
     "execution_count": 39
    }
   ],
   "source": [
    "# 任意两点间的路径\n",
    "pg_url = 'http://service.shmetro.com/i/c?o=' + '0120' + '&d=' + '0825' + '&t=0'\n",
    "return_data = requests.get(pg_url)\n",
    "data = return_data.json()\n",
    "number_path = data['data']['total']  # 给出了几条路径\n",
    "all_path = pd.DataFrame()\n",
    "for jj in range(0, number_path):\n",
    "\troute_detail = data['data']['list'][jj]\n",
    "\ttem = pd.DataFrame([route_detail])\n",
    "\t# 计算换乘时间\n",
    "\tpathidt = pd.DataFrame({'PSID': tem['psid'].str.split('-')[0], 'PSTM': tem['pstm'].str.split('-')[0]})\n",
    "\ttempath = pd.DataFrame(re.split('[()-]', tem['ptid'][0]))\n",
    "\ttempath = tempath[tempath[0] != '']\n",
    "\tnedd = pathidt['PSTM'][pathidt['PSID'].isin(tempath[0])].reset_index(drop=True)\n",
    "\thct = np.sum(nedd[1::2].astype(int).values - nedd[::2].astype(int).values)\n",
    "\ttem['huanchentime'] = hct\n",
    "\tall_path = all_path.append(tem)\n",
    "# 任意两点间的票价\n",
    "pg_url = 'http://service.shmetro.com/i/p?o=' + '0120' + '&d=' + '0825' + '&t=0'\n",
    "return_data = requests.get(pg_url)\n",
    "data = return_data.json()\n",
    "all_path['price'] = data['data']['p']\n",
    "\n",
    "\n",
    "def getPath(oid, did):\n",
    "    pg_url = 'http://service.shmetro.com/i/c?o=' + oid + '&d=' + did + '&t=0'\n",
    "    return_data = requests.get(pg_url)\n",
    "    data = return_data.json()\n",
    "    number_path = data['data']['total']  # 给出了几条路径\n",
    "    all_path = pd.DataFrame()\n",
    "    for jj in range(0, number_path):\n",
    "        route_detail = data['data']['list'][jj]\n",
    "        tem = pd.DataFrame([route_detail])\n",
    "        # 计算换乘时间\n",
    "        pathidt = pd.DataFrame({'PSID': tem['psid'].str.split('-')[0], 'PSTM': tem['pstm'].str.split('-')[0]})\n",
    "        tempath = pd.DataFrame(re.split('[()-]', tem['ptid'][0]))\n",
    "        tempath = tempath[tempath[0] != '']\n",
    "        nedd = pathidt['PSTM'][pathidt['PSID'].isin(tempath[0])].reset_index(drop=True)\n",
    "        hct = np.sum(nedd[1::2].astype(int).values - nedd[::2].astype(int).values)\n",
    "        tem['huanchentime'] = hct\n",
    "        all_path = all_path.append(tem)\n",
    "    # 任意两点间的票价\n",
    "    pg_url = 'http://service.shmetro.com/i/p?o=' + oid + '&d=' + did + '&t=0'\n",
    "    return_data = requests.get(pg_url)\n",
    "    data = return_data.json()\n",
    "    all_path['price'] = data['data']['p']\n",
    "    return all_path\n",
    "all_path"
   ]
  },
  {
   "cell_type": "code",
   "execution_count": 40,
   "metadata": {},
   "outputs": [],
   "source": [
    "with open(\"../data/metro_data.json\",'r', encoding='utf-8') as load_f:\n",
    "    metro_data = json.load(load_f)\n",
    "    # print(metro_data)\n",
    "    lines = metro_data['lines']\n",
    "    stations = metro_data['stations']\n",
    "\n",
    "def getStaByNameMy(name):\n",
    "    for sta in stations:\n",
    "        if sta['name'].rstrip()==name:\n",
    "            return sta\n",
    "    print(f'{name}不存在')\n",
    "    return None\n",
    "\n",
    "def getStaByIdMy(key):\n",
    "    for sta in stations:\n",
    "        if sta['id'].rstrip()==key:\n",
    "            return sta\n",
    "    print(f'{key}不存在')\n",
    "    return None"
   ]
  },
  {
   "cell_type": "code",
   "execution_count": 41,
   "metadata": {},
   "outputs": [],
   "source": [
    "with open(\"../data/sta_official.json\", 'r',encoding='utf-8') as load_f:\n",
    "    sta_official = json.load(load_f)\n",
    "# sta_official\n",
    "\n",
    "def getStaByName(name):\n",
    "    for sta in sta_official:\n",
    "        if sta['value'].rstrip()==name:\n",
    "            return sta\n",
    "    print(f'{name}不存在')\n",
    "    return None\n",
    "def getStaById(key):\n",
    "    for sta in sta_official:\n",
    "        if sta['key'].rstrip()==key:\n",
    "            return sta\n",
    "    print(f'{key}不存在')\n",
    "    return None"
   ]
  },
  {
   "cell_type": "code",
   "execution_count": 37,
   "metadata": {
    "tags": []
   },
   "outputs": [],
   "source": [
    "path = []\n",
    "def toMyPath(path_item):\n",
    "    ret = {}\n",
    "    \n",
    "for station_o in stations:\n",
    "    sta_off_o = getStaByName(station_o['name'])\n",
    "    for station_d in stations:\n",
    "        sta_off_d = getStaByName(station_d['name'])\n",
    "        path_res = getPath(sta_off_o['key'], sta_off_d['key'])\n",
    "        path_item = {}\n",
    "        path_item['od'] = {'o_sid':station_o['id'], 'd_sid':station_d['id']}\n",
    "        path_item['paths'] = []\n",
    "        for "
   ]
  }
 ]
}