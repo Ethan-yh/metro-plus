{
 "metadata": {
  "language_info": {
   "codemirror_mode": {
    "name": "ipython",
    "version": 3
   },
   "file_extension": ".py",
   "mimetype": "text/x-python",
   "name": "python",
   "nbconvert_exporter": "python",
   "pygments_lexer": "ipython3",
   "version": "3.8.8"
  },
  "orig_nbformat": 4,
  "kernelspec": {
   "name": "python3",
   "display_name": "Python 3.8.8 64-bit ('ml': conda)"
  },
  "interpreter": {
   "hash": "8ff797285f117e0da400d5e689cec072857ad394e959a3965450c03c5fe61561"
  }
 },
 "nbformat": 4,
 "nbformat_minor": 2,
 "cells": [
  {
   "cell_type": "code",
   "execution_count": 35,
   "metadata": {},
   "outputs": [],
   "source": [
    "import numpy as np\r\n",
    "import  pandas as pd\r\n",
    "from tensorflow import keras\r\n",
    "from tensorflow.keras.models import Sequential\r\n",
    "from tensorflow.keras.layers import Dense\r\n",
    "from tensorflow.keras.layers import LSTM\r\n",
    "import json"
   ]
  },
  {
   "cell_type": "code",
   "execution_count": 36,
   "metadata": {},
   "outputs": [],
   "source": [
    "with open('../data/entry_data.json', 'r', encoding='utf-8')as f:\n",
    "    entry_data = json.load(f)\n",
    "# entry_data"
   ]
  },
  {
   "cell_type": "code",
   "execution_count": 37,
   "metadata": {
    "tags": []
   },
   "outputs": [
    {
     "output_type": "execute_result",
     "data": {
      "text/plain": [
       "     minutegroup  entry\n",
       "0             53      4\n",
       "1             54      1\n",
       "2             55      2\n",
       "3             56      4\n",
       "4             59      2\n",
       "..           ...    ...\n",
       "218          273     31\n",
       "219          274     30\n",
       "220          275     11\n",
       "221          276      2\n",
       "222          277      1\n",
       "\n",
       "[223 rows x 2 columns]"
      ],
      "text/html": "<div>\n<style scoped>\n    .dataframe tbody tr th:only-of-type {\n        vertical-align: middle;\n    }\n\n    .dataframe tbody tr th {\n        vertical-align: top;\n    }\n\n    .dataframe thead th {\n        text-align: right;\n    }\n</style>\n<table border=\"1\" class=\"dataframe\">\n  <thead>\n    <tr style=\"text-align: right;\">\n      <th></th>\n      <th>minutegroup</th>\n      <th>entry</th>\n    </tr>\n  </thead>\n  <tbody>\n    <tr>\n      <th>0</th>\n      <td>53</td>\n      <td>4</td>\n    </tr>\n    <tr>\n      <th>1</th>\n      <td>54</td>\n      <td>1</td>\n    </tr>\n    <tr>\n      <th>2</th>\n      <td>55</td>\n      <td>2</td>\n    </tr>\n    <tr>\n      <th>3</th>\n      <td>56</td>\n      <td>4</td>\n    </tr>\n    <tr>\n      <th>4</th>\n      <td>59</td>\n      <td>2</td>\n    </tr>\n    <tr>\n      <th>...</th>\n      <td>...</td>\n      <td>...</td>\n    </tr>\n    <tr>\n      <th>218</th>\n      <td>273</td>\n      <td>31</td>\n    </tr>\n    <tr>\n      <th>219</th>\n      <td>274</td>\n      <td>30</td>\n    </tr>\n    <tr>\n      <th>220</th>\n      <td>275</td>\n      <td>11</td>\n    </tr>\n    <tr>\n      <th>221</th>\n      <td>276</td>\n      <td>2</td>\n    </tr>\n    <tr>\n      <th>222</th>\n      <td>277</td>\n      <td>1</td>\n    </tr>\n  </tbody>\n</table>\n<p>223 rows × 2 columns</p>\n</div>"
     },
     "metadata": {},
     "execution_count": 37
    }
   ],
   "source": [
    "def getStationByName(items, name):\r\n",
    "    for item in items:\r\n",
    "        if item['station_name'] == name:\r\n",
    "            return item\r\n",
    "    return None\r\n",
    "data_arr = []\r\n",
    "for minute_group in entry_data:\r\n",
    "    items = entry_data[minute_group]\r\n",
    "    item = getStationByName(items, '常熟路')\r\n",
    "    if not item:\r\n",
    "        continue\r\n",
    "    # print(item)\r\n",
    "    data_arr.append({'minutegroup':item['minutegroup'], 'entry':item['entry']})\r\n",
    "data_arr\r\n",
    "\r\n",
    "df = pd.DataFrame(data_arr)\r\n",
    "df"
   ]
  },
  {
   "cell_type": "code",
   "execution_count": 38,
   "metadata": {},
   "outputs": [],
   "source": [
    "df.to_csv('../data/timeEntry.csv', index=False)"
   ]
  }
 ]
}