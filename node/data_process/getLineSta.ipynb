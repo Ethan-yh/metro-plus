{
 "metadata": {
  "language_info": {
   "codemirror_mode": {
    "name": "ipython",
    "version": 3
   },
   "file_extension": ".py",
   "mimetype": "text/x-python",
   "name": "python",
   "nbconvert_exporter": "python",
   "pygments_lexer": "ipython3",
   "version": "3.8.8"
  },
  "orig_nbformat": 4,
  "kernelspec": {
   "name": "python3",
   "display_name": "Python 3.8.8 64-bit ('ml': conda)"
  },
  "interpreter": {
   "hash": "8ff797285f117e0da400d5e689cec072857ad394e959a3965450c03c5fe61561"
  }
 },
 "nbformat": 4,
 "nbformat_minor": 2,
 "cells": [
  {
   "cell_type": "code",
   "execution_count": 33,
   "metadata": {},
   "outputs": [],
   "source": [
    "import pandas as pd\r\n",
    "import numpy as np\r\n",
    "import json\r\n",
    "import xlrd\r\n",
    "from xlrd import xldate_as_tuple"
   ]
  },
  {
   "cell_type": "code",
   "execution_count": 34,
   "metadata": {
    "tags": []
   },
   "outputs": [],
   "source": [
    "with open(\"../data/metro_data.json\",'r', encoding='utf-8') as load_f:\n",
    "    metro_data = json.load(load_f)\n",
    "    # print(metro_data)\n",
    "    lines = metro_data['lines']\n",
    "    stations = metro_data['stations']\n",
    "\n"
   ]
  },
  {
   "cell_type": "code",
   "execution_count": 35,
   "metadata": {},
   "outputs": [],
   "source": [
    "# 时刻表数据\n",
    "wb = xlrd.open_workbook(\"../data/sub_line_data.xlsx\",\"rb\")\n",
    "def getSheetByName(name):\n",
    "    for i in range(len(wb.sheet_names())):\n",
    "        if wb.sheet_names()[i]==name:\n",
    "            return wb.sheet_by_index(i)\n",
    "\n",
    "# test_sheet = getSheetByName('12号线')\n",
    "# test_sheet.row_values(1)[0]"
   ]
  },
  {
   "cell_type": "code",
   "execution_count": 36,
   "metadata": {},
   "outputs": [],
   "source": [
    "\n",
    "\n",
    "\n",
    "linesta_arr = []\n",
    "for line in lines:\n",
    "    linestaItem = {}\n",
    "    linestaItem['line_id'] = line['id']+'-0'\n",
    "    linestaItem['stations'] = []\n",
    "    for station in line['stations']:\n",
    "        linestaItem['stations'].append({'station_id':station['id'], 'station_name':station['name']})\n",
    "    linesta_arr.append(linestaItem)\n",
    "\n",
    "    temp = linestaItem['stations'][:]\n",
    "    temp.reverse() \n",
    "\n",
    "    linestaItem = {}\n",
    "    linestaItem['line_id'] = line['id']+'-1'\n",
    "    linestaItem['stations'] = temp\n",
    "    linesta_arr.append(linestaItem)\n",
    "    \n",
    "\n",
    "\n",
    "\n",
    "linesta_arr\n",
    "\n",
    "with open('../data/line_sta.json','w') as f:\n",
    "    json.dump(linesta_arr, f, indent=1, ensure_ascii=False)\n"
   ]
  }
 ]
}