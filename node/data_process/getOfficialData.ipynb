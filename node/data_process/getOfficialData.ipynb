{
 "metadata": {
  "language_info": {
   "codemirror_mode": {
    "name": "ipython",
    "version": 3
   },
   "file_extension": ".py",
   "mimetype": "text/x-python",
   "name": "python",
   "nbconvert_exporter": "python",
   "pygments_lexer": "ipython3",
   "version": "3.8.10"
  },
  "orig_nbformat": 4,
  "kernelspec": {
   "name": "python3",
   "display_name": "Python 3.8.10 64-bit ('spider': conda)"
  },
  "interpreter": {
   "hash": "2f3154c155f7b66da45293b4e2b3628b6f38fcb1b81e83c70d0d9d60cf486a3b"
  }
 },
 "nbformat": 4,
 "nbformat_minor": 2,
 "cells": [
  {
   "cell_type": "code",
   "execution_count": 1,
   "metadata": {},
   "outputs": [],
   "source": [
    "import pandas as pd\n",
    "import numpy as np\n",
    "import json\n",
    "import requests\n",
    "import re"
   ]
  },
  {
   "cell_type": "code",
   "execution_count": 2,
   "metadata": {},
   "outputs": [
    {
     "output_type": "execute_result",
     "data": {
      "text/plain": [
       "    line stat_id   name station_code first_time  \\\n",
       "0      1     111     莘庄        11-XZ      05:30   \n",
       "1      1     111     莘庄        11-XZ      05:30   \n",
       "2      1     111     莘庄        11-XZ      06:04   \n",
       "3      5     501     莘庄        11-XZ      05:50   \n",
       "4      5     501     莘庄        11-XZ      06:12   \n",
       "..   ...     ...    ...          ...        ...   \n",
       "73     3     323  上海火车站      D-SHHCZ      05:50   \n",
       "74     4     410  上海火车站      D-SHHCZ      05:45   \n",
       "75     4     410  上海火车站      D-SHHCZ         --   \n",
       "76     4     410  上海火车站      D-SHHCZ      06:08   \n",
       "77     4     410  上海火车站      D-SHHCZ         --   \n",
       "\n",
       "                                      first_time_desc last_time  \\\n",
       "0   {\"weekday\":[\"0\",\"0\",\"0\",\"0\",\"0\",\"0\",\"0\"],\"date...     22:32   \n",
       "1                                                         22:32   \n",
       "2                                                         23:34   \n",
       "3                                                         22:40   \n",
       "4                                                         22:44   \n",
       "..                                                ...       ...   \n",
       "73                                                        23:05   \n",
       "74                                                        21:50   \n",
       "75                                                        23:18   \n",
       "76                                                        22:13   \n",
       "77                                                        22:55   \n",
       "\n",
       "                                       last_time_desc  direction description  \\\n",
       "0   {\"weekday\":[\"0\",\"0\",\"0\",\"0\",\"0\",\"78\",\"78\"],\"da...          1      往上海火车站   \n",
       "1   {\"weekday\":[0,0,0,0,0,78,78],\"dateday\":[{\"date...          1        往富锦路   \n",
       "2   {\"weekday\":[0,0,0,0,0,80,80],\"dateday\":[{\"date...         -1         往莘庄   \n",
       "3                                                              1       往奉贤新城   \n",
       "4                                                             -1         往莘庄   \n",
       "..                                                ...        ...         ...   \n",
       "73                                                             1       往江杨北路   \n",
       "74                                                             1       全程（内）   \n",
       "75                                                            -1   终点：宜山路（外）   \n",
       "76                                                            -1       全程（外）   \n",
       "77                                                             1   终点：宜山路（内）   \n",
       "\n",
       "    firstarrival_time  lastarrival_time  \n",
       "0                   0                 0  \n",
       "1                   0                 0  \n",
       "2                   1                 1  \n",
       "3                   0                 0  \n",
       "4                   1                 1  \n",
       "..                ...               ...  \n",
       "73                  0                 0  \n",
       "74                  0                 0  \n",
       "75                  0                 0  \n",
       "76                  0                 0  \n",
       "77                  0                 0  \n",
       "\n",
       "[78 rows x 12 columns]"
      ],
      "text/html": "<div>\n<style scoped>\n    .dataframe tbody tr th:only-of-type {\n        vertical-align: middle;\n    }\n\n    .dataframe tbody tr th {\n        vertical-align: top;\n    }\n\n    .dataframe thead th {\n        text-align: right;\n    }\n</style>\n<table border=\"1\" class=\"dataframe\">\n  <thead>\n    <tr style=\"text-align: right;\">\n      <th></th>\n      <th>line</th>\n      <th>stat_id</th>\n      <th>name</th>\n      <th>station_code</th>\n      <th>first_time</th>\n      <th>first_time_desc</th>\n      <th>last_time</th>\n      <th>last_time_desc</th>\n      <th>direction</th>\n      <th>description</th>\n      <th>firstarrival_time</th>\n      <th>lastarrival_time</th>\n    </tr>\n  </thead>\n  <tbody>\n    <tr>\n      <th>0</th>\n      <td>1</td>\n      <td>111</td>\n      <td>莘庄</td>\n      <td>11-XZ</td>\n      <td>05:30</td>\n      <td>{\"weekday\":[\"0\",\"0\",\"0\",\"0\",\"0\",\"0\",\"0\"],\"date...</td>\n      <td>22:32</td>\n      <td>{\"weekday\":[\"0\",\"0\",\"0\",\"0\",\"0\",\"78\",\"78\"],\"da...</td>\n      <td>1</td>\n      <td>往上海火车站</td>\n      <td>0</td>\n      <td>0</td>\n    </tr>\n    <tr>\n      <th>1</th>\n      <td>1</td>\n      <td>111</td>\n      <td>莘庄</td>\n      <td>11-XZ</td>\n      <td>05:30</td>\n      <td></td>\n      <td>22:32</td>\n      <td>{\"weekday\":[0,0,0,0,0,78,78],\"dateday\":[{\"date...</td>\n      <td>1</td>\n      <td>往富锦路</td>\n      <td>0</td>\n      <td>0</td>\n    </tr>\n    <tr>\n      <th>2</th>\n      <td>1</td>\n      <td>111</td>\n      <td>莘庄</td>\n      <td>11-XZ</td>\n      <td>06:04</td>\n      <td></td>\n      <td>23:34</td>\n      <td>{\"weekday\":[0,0,0,0,0,80,80],\"dateday\":[{\"date...</td>\n      <td>-1</td>\n      <td>往莘庄</td>\n      <td>1</td>\n      <td>1</td>\n    </tr>\n    <tr>\n      <th>3</th>\n      <td>5</td>\n      <td>501</td>\n      <td>莘庄</td>\n      <td>11-XZ</td>\n      <td>05:50</td>\n      <td></td>\n      <td>22:40</td>\n      <td></td>\n      <td>1</td>\n      <td>往奉贤新城</td>\n      <td>0</td>\n      <td>0</td>\n    </tr>\n    <tr>\n      <th>4</th>\n      <td>5</td>\n      <td>501</td>\n      <td>莘庄</td>\n      <td>11-XZ</td>\n      <td>06:12</td>\n      <td></td>\n      <td>22:44</td>\n      <td></td>\n      <td>-1</td>\n      <td>往莘庄</td>\n      <td>1</td>\n      <td>1</td>\n    </tr>\n    <tr>\n      <th>...</th>\n      <td>...</td>\n      <td>...</td>\n      <td>...</td>\n      <td>...</td>\n      <td>...</td>\n      <td>...</td>\n      <td>...</td>\n      <td>...</td>\n      <td>...</td>\n      <td>...</td>\n      <td>...</td>\n      <td>...</td>\n    </tr>\n    <tr>\n      <th>73</th>\n      <td>3</td>\n      <td>323</td>\n      <td>上海火车站</td>\n      <td>D-SHHCZ</td>\n      <td>05:50</td>\n      <td></td>\n      <td>23:05</td>\n      <td></td>\n      <td>1</td>\n      <td>往江杨北路</td>\n      <td>0</td>\n      <td>0</td>\n    </tr>\n    <tr>\n      <th>74</th>\n      <td>4</td>\n      <td>410</td>\n      <td>上海火车站</td>\n      <td>D-SHHCZ</td>\n      <td>05:45</td>\n      <td></td>\n      <td>21:50</td>\n      <td></td>\n      <td>1</td>\n      <td>全程（内）</td>\n      <td>0</td>\n      <td>0</td>\n    </tr>\n    <tr>\n      <th>75</th>\n      <td>4</td>\n      <td>410</td>\n      <td>上海火车站</td>\n      <td>D-SHHCZ</td>\n      <td>--</td>\n      <td></td>\n      <td>23:18</td>\n      <td></td>\n      <td>-1</td>\n      <td>终点：宜山路（外）</td>\n      <td>0</td>\n      <td>0</td>\n    </tr>\n    <tr>\n      <th>76</th>\n      <td>4</td>\n      <td>410</td>\n      <td>上海火车站</td>\n      <td>D-SHHCZ</td>\n      <td>06:08</td>\n      <td></td>\n      <td>22:13</td>\n      <td></td>\n      <td>-1</td>\n      <td>全程（外）</td>\n      <td>0</td>\n      <td>0</td>\n    </tr>\n    <tr>\n      <th>77</th>\n      <td>4</td>\n      <td>410</td>\n      <td>上海火车站</td>\n      <td>D-SHHCZ</td>\n      <td>--</td>\n      <td></td>\n      <td>22:55</td>\n      <td></td>\n      <td>1</td>\n      <td>终点：宜山路（内）</td>\n      <td>0</td>\n      <td>0</td>\n    </tr>\n  </tbody>\n</table>\n<p>78 rows × 12 columns</p>\n</div>"
     },
     "metadata": {},
     "execution_count": 2
    }
   ],
   "source": [
    "# 获取每条线路的信息\n",
    "return_data = requests.get('http://m.shmetro.com/interface/metromap/metromap.aspx?func=exfltime&line1=1')\n",
    "tem = return_data.text\n",
    "allline = pd.DataFrame(json.loads(tem))\n",
    "\n",
    "allline"
   ]
  },
  {
   "cell_type": "code",
   "execution_count": 3,
   "metadata": {},
   "outputs": [
    {
     "output_type": "execute_result",
     "data": {
      "text/plain": [
       "      key value\n",
       "0    0111    莘庄\n",
       "1    0112   外环路\n",
       "2    0113   莲花路\n",
       "3    0114  锦江乐园\n",
       "4    0115  上海南站\n",
       "..    ...   ...\n",
       "466  4102  三鲁公路\n",
       "467  4103   闵瑞路\n",
       "468  4104   浦航路\n",
       "469  4105  东城一路\n",
       "470  4106   汇臻路\n",
       "\n",
       "[471 rows x 2 columns]"
      ],
      "text/html": "<div>\n<style scoped>\n    .dataframe tbody tr th:only-of-type {\n        vertical-align: middle;\n    }\n\n    .dataframe tbody tr th {\n        vertical-align: top;\n    }\n\n    .dataframe thead th {\n        text-align: right;\n    }\n</style>\n<table border=\"1\" class=\"dataframe\">\n  <thead>\n    <tr style=\"text-align: right;\">\n      <th></th>\n      <th>key</th>\n      <th>value</th>\n    </tr>\n  </thead>\n  <tbody>\n    <tr>\n      <th>0</th>\n      <td>0111</td>\n      <td>莘庄</td>\n    </tr>\n    <tr>\n      <th>1</th>\n      <td>0112</td>\n      <td>外环路</td>\n    </tr>\n    <tr>\n      <th>2</th>\n      <td>0113</td>\n      <td>莲花路</td>\n    </tr>\n    <tr>\n      <th>3</th>\n      <td>0114</td>\n      <td>锦江乐园</td>\n    </tr>\n    <tr>\n      <th>4</th>\n      <td>0115</td>\n      <td>上海南站</td>\n    </tr>\n    <tr>\n      <th>...</th>\n      <td>...</td>\n      <td>...</td>\n    </tr>\n    <tr>\n      <th>466</th>\n      <td>4102</td>\n      <td>三鲁公路</td>\n    </tr>\n    <tr>\n      <th>467</th>\n      <td>4103</td>\n      <td>闵瑞路</td>\n    </tr>\n    <tr>\n      <th>468</th>\n      <td>4104</td>\n      <td>浦航路</td>\n    </tr>\n    <tr>\n      <th>469</th>\n      <td>4105</td>\n      <td>东城一路</td>\n    </tr>\n    <tr>\n      <th>470</th>\n      <td>4106</td>\n      <td>汇臻路</td>\n    </tr>\n  </tbody>\n</table>\n<p>471 rows × 2 columns</p>\n</div>"
     },
     "metadata": {},
     "execution_count": 3
    }
   ],
   "source": [
    "# 获取每个站点的名称及key\n",
    "return_data = requests.get('http://m.shmetro.com/core/shmetro/mdstationinfoback_new.ashx?act=getAllStations')\n",
    "tem = return_data.text\n",
    "allshop_json = json.loads(tem)\n",
    "allshop = pd.DataFrame(json.loads(tem))\n",
    "\n",
    "allshop\n",
    "\n",
    "\n"
   ]
  },
  {
   "cell_type": "code",
   "execution_count": 4,
   "metadata": {},
   "outputs": [],
   "source": [
    "with open('../data/sta_official.json','w') as f:\n",
    "    json.dump(allshop_json, f, indent=1, ensure_ascii=False)"
   ]
  }
 ]
}